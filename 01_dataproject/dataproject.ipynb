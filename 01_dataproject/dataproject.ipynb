{
 "cells": [
  {
   "cell_type": "markdown",
   "metadata": {},
   "source": [
    "# Data Project"
   ]
  },
  {
   "attachments": {},
   "cell_type": "markdown",
   "metadata": {},
   "source": [
    "> **Note:** \n",
    "> 1. This is a starting point for how to structure your data project \n",
    "> 1. The `dataproject.py` file includes functions which can be in this notebook"
   ]
  },
  {
   "cell_type": "markdown",
   "metadata": {},
   "source": [
    "Import and set magics:"
   ]
  },
  {
   "cell_type": "code",
   "execution_count": 36,
   "metadata": {},
   "outputs": [
    {
     "name": "stdout",
     "output_type": "stream",
     "text": [
      "The autoreload extension is already loaded. To reload it, use:\n",
      "  %reload_ext autoreload\n"
     ]
    }
   ],
   "source": [
    "import numpy as np\n",
    "import matplotlib.pyplot as plt\n",
    "import pandas as pd\n",
    "\n",
    "# autoreload modules when code is run\n",
    "%load_ext autoreload\n",
    "%autoreload 2\n",
    "\n",
    "# user written modules\n",
    "import dataproject"
   ]
  },
  {
   "cell_type": "markdown",
   "metadata": {},
   "source": [
    "## 1 Aggregate inflation in Denmark"
   ]
  },
  {
   "cell_type": "markdown",
   "metadata": {},
   "source": [
    "We load the data from statistik banken"
   ]
  },
  {
   "cell_type": "code",
   "execution_count": 37,
   "metadata": {},
   "outputs": [],
   "source": [
    "#%pip install git+https://github.com/alemartinello/dstapi\n",
    "#%pip install fredapi"
   ]
  },
  {
   "cell_type": "code",
   "execution_count": 38,
   "metadata": {},
   "outputs": [],
   "source": [
    "# APIs\n",
    "from fredapi import Fred\n",
    "from dstapi import DstApi\n",
    "\n",
    "PRIS113 = DstApi('PRIS113') "
   ]
  },
  {
   "cell_type": "markdown",
   "metadata": {},
   "source": [
    "### 1-1 Basics"
   ]
  },
  {
   "cell_type": "code",
   "execution_count": 39,
   "metadata": {},
   "outputs": [],
   "source": [
    "metro = DstApi('Pris113')"
   ]
  },
  {
   "cell_type": "markdown",
   "metadata": {},
   "source": []
  },
  {
   "cell_type": "code",
   "execution_count": 40,
   "metadata": {},
   "outputs": [],
   "source": [
    "params = {\n",
    "    'table': 'Pris113',\n",
    "    'format': 'BULK',\n",
    "    'lang': 'en',\n",
    "    'variables': [\n",
    "        {'code': 'TYPE', 'values': ['*']},\n",
    "        {'code': 'Tid', 'values': ['*']}\n",
    "    ]\n",
    "}"
   ]
  },
  {
   "cell_type": "code",
   "execution_count": 41,
   "metadata": {},
   "outputs": [
    {
     "data": {
      "application/vnd.microsoft.datawrangler.viewer.v0+json": {
       "columns": [
        {
         "name": "index",
         "rawType": "int64",
         "type": "integer"
        },
        {
         "name": "TYPE",
         "rawType": "object",
         "type": "string"
        },
        {
         "name": "TID",
         "rawType": "object",
         "type": "string"
        },
        {
         "name": "INDHOLD",
         "rawType": "object",
         "type": "string"
        }
       ],
       "ref": "ff337dd4-a8ac-4d3b-99c2-54554b9665dd",
       "rows": [
        [
         "0",
         "Consumer price index",
         "1980M01",
         "33.0"
        ],
        [
         "1",
         "Consumer price index",
         "1980M05",
         "34.5"
        ],
        [
         "2",
         "Consumer price index",
         "1980M09",
         "35.5"
        ],
        [
         "3",
         "Consumer price index",
         "1981M01",
         "36.5"
        ],
        [
         "4",
         "Consumer price index",
         "1981M05",
         "38.6"
        ],
        [
         "5",
         "Consumer price index",
         "1981M09",
         "39.8"
        ],
        [
         "6",
         "Consumer price index",
         "1982M01",
         "41.0"
        ],
        [
         "7",
         "Consumer price index",
         "1982M05",
         "42.3"
        ],
        [
         "8",
         "Consumer price index",
         "1982M09",
         "43.7"
        ],
        [
         "9",
         "Consumer price index",
         "1983M01",
         "44.7"
        ],
        [
         "10",
         "Consumer price index",
         "1983M05",
         "45.5"
        ],
        [
         "11",
         "Consumer price index",
         "1983M09",
         "46.3"
        ],
        [
         "12",
         "Consumer price index",
         "1984M01",
         "47.2"
        ],
        [
         "13",
         "Consumer price index",
         "1984M05",
         "48.5"
        ],
        [
         "14",
         "Consumer price index",
         "1984M09",
         "49.2"
        ],
        [
         "15",
         "Consumer price index",
         "1985M01",
         "49.9"
        ],
        [
         "16",
         "Consumer price index",
         "1985M05",
         "51.1"
        ],
        [
         "17",
         "Consumer price index",
         "1985M09",
         "51.1"
        ],
        [
         "18",
         "Consumer price index",
         "1986M01",
         "51.3"
        ],
        [
         "19",
         "Consumer price index",
         "1986M05",
         "53.2"
        ],
        [
         "20",
         "Consumer price index",
         "1986M09",
         "53.4"
        ],
        [
         "21",
         "Consumer price index",
         "1987M01",
         "53.8"
        ],
        [
         "22",
         "Consumer price index",
         "1987M05",
         "54.9"
        ],
        [
         "23",
         "Consumer price index",
         "1987M09",
         "55.4"
        ],
        [
         "24",
         "Consumer price index",
         "1988M01",
         "56.1"
        ],
        [
         "25",
         "Consumer price index",
         "1988M05",
         "57.4"
        ],
        [
         "26",
         "Consumer price index",
         "1988M09",
         "57.9"
        ],
        [
         "27",
         "Consumer price index",
         "1989M01",
         "58.6"
        ],
        [
         "28",
         "Consumer price index",
         "1989M05",
         "60.2"
        ],
        [
         "29",
         "Consumer price index",
         "1989M09",
         "60.6"
        ],
        [
         "30",
         "Consumer price index",
         "1990M01",
         "60.8"
        ],
        [
         "31",
         "Consumer price index",
         "1990M05",
         "61.6"
        ],
        [
         "32",
         "Consumer price index",
         "1990M09",
         "62.4"
        ],
        [
         "33",
         "Consumer price index",
         "1991M01",
         "62.3"
        ],
        [
         "34",
         "Consumer price index",
         "1991M05",
         "63.2"
        ],
        [
         "35",
         "Consumer price index",
         "1991M09",
         "63.6"
        ],
        [
         "36",
         "Consumer price index",
         "1992M01",
         "63.7"
        ],
        [
         "37",
         "Consumer price index",
         "1992M05",
         "64.8"
        ],
        [
         "38",
         "Consumer price index",
         "1992M09",
         "64.8"
        ],
        [
         "39",
         "Consumer price index",
         "1993M01",
         "64.6"
        ],
        [
         "40",
         "Consumer price index",
         "1993M05",
         "65.4"
        ],
        [
         "41",
         "Consumer price index",
         "1993M09",
         "65.6"
        ],
        [
         "42",
         "Consumer price index",
         "1994M01",
         "65.8"
        ],
        [
         "43",
         "Consumer price index",
         "1994M05",
         "66.6"
        ],
        [
         "44",
         "Consumer price index",
         "1994M09",
         "66.9"
        ],
        [
         "45",
         "Consumer price index",
         "1995M01",
         "67.2"
        ],
        [
         "46",
         "Consumer price index",
         "1995M05",
         "68.2"
        ],
        [
         "47",
         "Consumer price index",
         "1995M09",
         "68.3"
        ],
        [
         "48",
         "Consumer price index",
         "1996M01",
         "68.4"
        ],
        [
         "49",
         "Consumer price index",
         "1996M05",
         "69.5"
        ]
       ],
       "shape": {
        "columns": 3,
        "rows": 549
       }
      },
      "text/html": [
       "<div>\n",
       "<style scoped>\n",
       "    .dataframe tbody tr th:only-of-type {\n",
       "        vertical-align: middle;\n",
       "    }\n",
       "\n",
       "    .dataframe tbody tr th {\n",
       "        vertical-align: top;\n",
       "    }\n",
       "\n",
       "    .dataframe thead th {\n",
       "        text-align: right;\n",
       "    }\n",
       "</style>\n",
       "<table border=\"1\" class=\"dataframe\">\n",
       "  <thead>\n",
       "    <tr style=\"text-align: right;\">\n",
       "      <th></th>\n",
       "      <th>TYPE</th>\n",
       "      <th>TID</th>\n",
       "      <th>INDHOLD</th>\n",
       "    </tr>\n",
       "  </thead>\n",
       "  <tbody>\n",
       "    <tr>\n",
       "      <th>0</th>\n",
       "      <td>Consumer price index</td>\n",
       "      <td>1980M01</td>\n",
       "      <td>33.0</td>\n",
       "    </tr>\n",
       "    <tr>\n",
       "      <th>1</th>\n",
       "      <td>Consumer price index</td>\n",
       "      <td>1980M05</td>\n",
       "      <td>34.5</td>\n",
       "    </tr>\n",
       "    <tr>\n",
       "      <th>2</th>\n",
       "      <td>Consumer price index</td>\n",
       "      <td>1980M09</td>\n",
       "      <td>35.5</td>\n",
       "    </tr>\n",
       "    <tr>\n",
       "      <th>3</th>\n",
       "      <td>Consumer price index</td>\n",
       "      <td>1981M01</td>\n",
       "      <td>36.5</td>\n",
       "    </tr>\n",
       "    <tr>\n",
       "      <th>4</th>\n",
       "      <td>Consumer price index</td>\n",
       "      <td>1981M05</td>\n",
       "      <td>38.6</td>\n",
       "    </tr>\n",
       "    <tr>\n",
       "      <th>...</th>\n",
       "      <td>...</td>\n",
       "      <td>...</td>\n",
       "      <td>...</td>\n",
       "    </tr>\n",
       "    <tr>\n",
       "      <th>544</th>\n",
       "      <td>Consumer price index</td>\n",
       "      <td>2018M12</td>\n",
       "      <td>102.1</td>\n",
       "    </tr>\n",
       "    <tr>\n",
       "      <th>545</th>\n",
       "      <td>Consumer price index</td>\n",
       "      <td>2020M03</td>\n",
       "      <td>103.3</td>\n",
       "    </tr>\n",
       "    <tr>\n",
       "      <th>546</th>\n",
       "      <td>Consumer price index</td>\n",
       "      <td>2022M05</td>\n",
       "      <td>112.7</td>\n",
       "    </tr>\n",
       "    <tr>\n",
       "      <th>547</th>\n",
       "      <td>Consumer price index</td>\n",
       "      <td>2023M01</td>\n",
       "      <td>116.4</td>\n",
       "    </tr>\n",
       "    <tr>\n",
       "      <th>548</th>\n",
       "      <td>Consumer price index</td>\n",
       "      <td>2023M12</td>\n",
       "      <td>116.7</td>\n",
       "    </tr>\n",
       "  </tbody>\n",
       "</table>\n",
       "<p>549 rows × 3 columns</p>\n",
       "</div>"
      ],
      "text/plain": [
       "                     TYPE      TID INDHOLD\n",
       "0    Consumer price index  1980M01    33.0\n",
       "1    Consumer price index  1980M05    34.5\n",
       "2    Consumer price index  1980M09    35.5\n",
       "3    Consumer price index  1981M01    36.5\n",
       "4    Consumer price index  1981M05    38.6\n",
       "..                    ...      ...     ...\n",
       "544  Consumer price index  2018M12   102.1\n",
       "545  Consumer price index  2020M03   103.3\n",
       "546  Consumer price index  2022M05   112.7\n",
       "547  Consumer price index  2023M01   116.4\n",
       "548  Consumer price index  2023M12   116.7\n",
       "\n",
       "[549 rows x 3 columns]"
      ]
     },
     "execution_count": 41,
     "metadata": {},
     "output_type": "execute_result"
    }
   ],
   "source": [
    "metro.get_data(params=params)"
   ]
  },
  {
   "cell_type": "code",
   "execution_count": 42,
   "metadata": {},
   "outputs": [],
   "source": [
    "# Fetch data and assign to df\n",
    "df = metro.get_data(params=params)\n",
    "\n",
    "# Make TID a date field\n",
    "df['TID'] = pd.to_datetime(df['TID'], format='%YM%m').dt.date"
   ]
  },
  {
   "cell_type": "code",
   "execution_count": 43,
   "metadata": {},
   "outputs": [],
   "source": [
    "#Sorter data by TID\n",
    "df = df.sort_values(by='TID').reset_index(drop=True)"
   ]
  },
  {
   "cell_type": "code",
   "execution_count": 44,
   "metadata": {},
   "outputs": [],
   "source": [
    "# Ensure INDHOLD is numeric\n",
    "df['INDHOLD'] = pd.to_numeric(df['INDHOLD'], errors='coerce')\n",
    "\n",
    "# Index the CPI to January 2020 = 100\n",
    "scaling_factor = round(100 / df.loc[df['TID'] == pd.to_datetime('2020-01-01').date(), 'INDHOLD'].values[0], 2)\n",
    "df['CPI_Indexed'] = df['INDHOLD'] * scaling_factor"
   ]
  },
  {
   "cell_type": "code",
   "execution_count": 45,
   "metadata": {},
   "outputs": [],
   "source": [
    "# the month-to-month inflation rate\n",
    "df['Inflation_Rate'] = df['INDHOLD'].pct_change().round(3)"
   ]
  },
  {
   "cell_type": "code",
   "execution_count": 52,
   "metadata": {},
   "outputs": [
    {
     "data": {
      "application/vnd.microsoft.datawrangler.viewer.v0+json": {
       "columns": [
        {
         "name": "index",
         "rawType": "int64",
         "type": "integer"
        },
        {
         "name": "TYPE",
         "rawType": "object",
         "type": "string"
        },
        {
         "name": "TID",
         "rawType": "object",
         "type": "unknown"
        },
        {
         "name": "INDHOLD",
         "rawType": "float64",
         "type": "float"
        },
        {
         "name": "CPI_Indexed",
         "rawType": "float64",
         "type": "float"
        },
        {
         "name": "Inflation_Rate",
         "rawType": "float64",
         "type": "float"
        },
        {
         "name": "Inflation_Rate_12M",
         "rawType": "float64",
         "type": "float"
        }
       ],
       "ref": "74229454-eead-40bd-9c68-e27a0cf4ed36",
       "rows": [
        [
         "0",
         "Consumer price index",
         "1980-01-01",
         "33.0",
         "32.01",
         null,
         null
        ],
        [
         "1",
         "Consumer price index",
         "1980-02-01",
         "33.3",
         "32.300999999999995",
         "0.009",
         null
        ],
        [
         "2",
         "Consumer price index",
         "1980-03-01",
         "33.8",
         "32.785999999999994",
         "0.015",
         null
        ],
        [
         "3",
         "Consumer price index",
         "1980-04-01",
         "34.0",
         "32.98",
         "0.006",
         null
        ],
        [
         "4",
         "Consumer price index",
         "1980-05-01",
         "34.5",
         "33.464999999999996",
         "0.015",
         null
        ],
        [
         "5",
         "Consumer price index",
         "1980-06-01",
         "34.6",
         "33.562",
         "0.003",
         null
        ],
        [
         "6",
         "Consumer price index",
         "1980-07-01",
         "35.2",
         "34.144",
         "0.017",
         null
        ],
        [
         "7",
         "Consumer price index",
         "1980-08-01",
         "35.3",
         "34.241",
         "0.003",
         null
        ],
        [
         "8",
         "Consumer price index",
         "1980-09-01",
         "35.5",
         "34.435",
         "0.006",
         null
        ],
        [
         "9",
         "Consumer price index",
         "1980-10-01",
         "35.8",
         "34.726",
         "0.008",
         null
        ],
        [
         "10",
         "Consumer price index",
         "1980-11-01",
         "36.1",
         "35.017",
         "0.008",
         null
        ],
        [
         "11",
         "Consumer price index",
         "1980-12-01",
         "36.2",
         "35.114000000000004",
         "0.003",
         null
        ],
        [
         "12",
         "Consumer price index",
         "1981-01-01",
         "36.5",
         "35.405",
         "0.008",
         "0.106"
        ],
        [
         "13",
         "Consumer price index",
         "1981-02-01",
         "36.8",
         "35.696",
         "0.008",
         "0.105"
        ],
        [
         "14",
         "Consumer price index",
         "1981-03-01",
         "37.6",
         "36.472",
         "0.022",
         "0.112"
        ],
        [
         "15",
         "Consumer price index",
         "1981-04-01",
         "38.0",
         "36.86",
         "0.011",
         "0.118"
        ],
        [
         "16",
         "Consumer price index",
         "1981-05-01",
         "38.6",
         "37.442",
         "0.016",
         "0.119"
        ],
        [
         "17",
         "Consumer price index",
         "1981-06-01",
         "39.0",
         "37.83",
         "0.01",
         "0.127"
        ],
        [
         "18",
         "Consumer price index",
         "1981-07-01",
         "39.3",
         "38.120999999999995",
         "0.008",
         "0.116"
        ],
        [
         "19",
         "Consumer price index",
         "1981-08-01",
         "39.4",
         "38.217999999999996",
         "0.003",
         "0.116"
        ],
        [
         "20",
         "Consumer price index",
         "1981-09-01",
         "39.8",
         "38.605999999999995",
         "0.01",
         "0.121"
        ],
        [
         "21",
         "Consumer price index",
         "1981-10-01",
         "40.0",
         "38.8",
         "0.005",
         "0.117"
        ],
        [
         "22",
         "Consumer price index",
         "1981-11-01",
         "40.5",
         "39.285",
         "0.012",
         "0.122"
        ],
        [
         "23",
         "Consumer price index",
         "1981-12-01",
         "40.7",
         "39.479",
         "0.005",
         "0.124"
        ],
        [
         "24",
         "Consumer price index",
         "1982-01-01",
         "41.0",
         "39.769999999999996",
         "0.007",
         "0.123"
        ],
        [
         "25",
         "Consumer price index",
         "1982-02-01",
         "41.2",
         "39.964",
         "0.005",
         "0.12"
        ],
        [
         "26",
         "Consumer price index",
         "1982-03-01",
         "41.6",
         "40.352",
         "0.01",
         "0.106"
        ],
        [
         "27",
         "Consumer price index",
         "1982-04-01",
         "41.8",
         "40.546",
         "0.005",
         "0.1"
        ],
        [
         "28",
         "Consumer price index",
         "1982-05-01",
         "42.3",
         "41.031",
         "0.012",
         "0.096"
        ],
        [
         "29",
         "Consumer price index",
         "1982-06-01",
         "42.6",
         "41.322",
         "0.007",
         "0.092"
        ],
        [
         "30",
         "Consumer price index",
         "1982-07-01",
         "43.0",
         "41.71",
         "0.009",
         "0.094"
        ],
        [
         "31",
         "Consumer price index",
         "1982-08-01",
         "43.2",
         "41.904",
         "0.005",
         "0.096"
        ],
        [
         "32",
         "Consumer price index",
         "1982-09-01",
         "43.7",
         "42.389",
         "0.012",
         "0.098"
        ],
        [
         "33",
         "Consumer price index",
         "1982-10-01",
         "44.2",
         "42.874",
         "0.011",
         "0.105"
        ],
        [
         "34",
         "Consumer price index",
         "1982-11-01",
         "44.6",
         "43.262",
         "0.009",
         "0.101"
        ],
        [
         "35",
         "Consumer price index",
         "1982-12-01",
         "44.3",
         "42.971",
         "-0.007",
         "0.088"
        ],
        [
         "36",
         "Consumer price index",
         "1983-01-01",
         "44.7",
         "43.359",
         "0.009",
         "0.09"
        ],
        [
         "37",
         "Consumer price index",
         "1983-02-01",
         "44.8",
         "43.455999999999996",
         "0.002",
         "0.087"
        ],
        [
         "38",
         "Consumer price index",
         "1983-03-01",
         "44.7",
         "43.359",
         "-0.002",
         "0.075"
        ],
        [
         "39",
         "Consumer price index",
         "1983-04-01",
         "45.0",
         "43.65",
         "0.007",
         "0.077"
        ],
        [
         "40",
         "Consumer price index",
         "1983-05-01",
         "45.5",
         "44.135",
         "0.011",
         "0.076"
        ],
        [
         "41",
         "Consumer price index",
         "1983-06-01",
         "45.6",
         "44.232",
         "0.002",
         "0.07"
        ],
        [
         "42",
         "Consumer price index",
         "1983-07-01",
         "45.6",
         "44.232",
         "0.0",
         "0.06"
        ],
        [
         "43",
         "Consumer price index",
         "1983-08-01",
         "45.8",
         "44.425999999999995",
         "0.004",
         "0.06"
        ],
        [
         "44",
         "Consumer price index",
         "1983-09-01",
         "46.3",
         "44.910999999999994",
         "0.011",
         "0.059"
        ],
        [
         "45",
         "Consumer price index",
         "1983-10-01",
         "46.6",
         "45.202",
         "0.006",
         "0.054"
        ],
        [
         "46",
         "Consumer price index",
         "1983-11-01",
         "47.0",
         "45.589999999999996",
         "0.009",
         "0.054"
        ],
        [
         "47",
         "Consumer price index",
         "1983-12-01",
         "47.0",
         "45.589999999999996",
         "0.0",
         "0.061"
        ],
        [
         "48",
         "Consumer price index",
         "1984-01-01",
         "47.2",
         "45.784",
         "0.004",
         "0.056"
        ],
        [
         "49",
         "Consumer price index",
         "1984-02-01",
         "47.7",
         "46.269",
         "0.011",
         "0.065"
        ]
       ],
       "shape": {
        "columns": 6,
        "rows": 549
       }
      },
      "text/html": [
       "<div>\n",
       "<style scoped>\n",
       "    .dataframe tbody tr th:only-of-type {\n",
       "        vertical-align: middle;\n",
       "    }\n",
       "\n",
       "    .dataframe tbody tr th {\n",
       "        vertical-align: top;\n",
       "    }\n",
       "\n",
       "    .dataframe thead th {\n",
       "        text-align: right;\n",
       "    }\n",
       "</style>\n",
       "<table border=\"1\" class=\"dataframe\">\n",
       "  <thead>\n",
       "    <tr style=\"text-align: right;\">\n",
       "      <th></th>\n",
       "      <th>TYPE</th>\n",
       "      <th>TID</th>\n",
       "      <th>INDHOLD</th>\n",
       "      <th>CPI_Indexed</th>\n",
       "      <th>Inflation_Rate</th>\n",
       "      <th>Inflation_Rate_12M</th>\n",
       "    </tr>\n",
       "  </thead>\n",
       "  <tbody>\n",
       "    <tr>\n",
       "      <th>0</th>\n",
       "      <td>Consumer price index</td>\n",
       "      <td>1980-01-01</td>\n",
       "      <td>33.0</td>\n",
       "      <td>32.010</td>\n",
       "      <td>NaN</td>\n",
       "      <td>NaN</td>\n",
       "    </tr>\n",
       "    <tr>\n",
       "      <th>1</th>\n",
       "      <td>Consumer price index</td>\n",
       "      <td>1980-02-01</td>\n",
       "      <td>33.3</td>\n",
       "      <td>32.301</td>\n",
       "      <td>0.009</td>\n",
       "      <td>NaN</td>\n",
       "    </tr>\n",
       "    <tr>\n",
       "      <th>2</th>\n",
       "      <td>Consumer price index</td>\n",
       "      <td>1980-03-01</td>\n",
       "      <td>33.8</td>\n",
       "      <td>32.786</td>\n",
       "      <td>0.015</td>\n",
       "      <td>NaN</td>\n",
       "    </tr>\n",
       "    <tr>\n",
       "      <th>3</th>\n",
       "      <td>Consumer price index</td>\n",
       "      <td>1980-04-01</td>\n",
       "      <td>34.0</td>\n",
       "      <td>32.980</td>\n",
       "      <td>0.006</td>\n",
       "      <td>NaN</td>\n",
       "    </tr>\n",
       "    <tr>\n",
       "      <th>4</th>\n",
       "      <td>Consumer price index</td>\n",
       "      <td>1980-05-01</td>\n",
       "      <td>34.5</td>\n",
       "      <td>33.465</td>\n",
       "      <td>0.015</td>\n",
       "      <td>NaN</td>\n",
       "    </tr>\n",
       "    <tr>\n",
       "      <th>...</th>\n",
       "      <td>...</td>\n",
       "      <td>...</td>\n",
       "      <td>...</td>\n",
       "      <td>...</td>\n",
       "      <td>...</td>\n",
       "      <td>...</td>\n",
       "    </tr>\n",
       "    <tr>\n",
       "      <th>544</th>\n",
       "      <td>Consumer price index</td>\n",
       "      <td>2025-05-01</td>\n",
       "      <td>120.4</td>\n",
       "      <td>116.788</td>\n",
       "      <td>0.001</td>\n",
       "      <td>0.016</td>\n",
       "    </tr>\n",
       "    <tr>\n",
       "      <th>545</th>\n",
       "      <td>Consumer price index</td>\n",
       "      <td>2025-06-01</td>\n",
       "      <td>120.7</td>\n",
       "      <td>117.079</td>\n",
       "      <td>0.002</td>\n",
       "      <td>0.019</td>\n",
       "    </tr>\n",
       "    <tr>\n",
       "      <th>546</th>\n",
       "      <td>Consumer price index</td>\n",
       "      <td>2025-07-01</td>\n",
       "      <td>122.5</td>\n",
       "      <td>118.825</td>\n",
       "      <td>0.015</td>\n",
       "      <td>0.023</td>\n",
       "    </tr>\n",
       "    <tr>\n",
       "      <th>547</th>\n",
       "      <td>Consumer price index</td>\n",
       "      <td>2025-08-01</td>\n",
       "      <td>121.7</td>\n",
       "      <td>118.049</td>\n",
       "      <td>-0.007</td>\n",
       "      <td>0.020</td>\n",
       "    </tr>\n",
       "    <tr>\n",
       "      <th>548</th>\n",
       "      <td>Consumer price index</td>\n",
       "      <td>2025-09-01</td>\n",
       "      <td>121.6</td>\n",
       "      <td>117.952</td>\n",
       "      <td>-0.001</td>\n",
       "      <td>0.023</td>\n",
       "    </tr>\n",
       "  </tbody>\n",
       "</table>\n",
       "<p>549 rows × 6 columns</p>\n",
       "</div>"
      ],
      "text/plain": [
       "                     TYPE         TID  INDHOLD  CPI_Indexed  Inflation_Rate  \\\n",
       "0    Consumer price index  1980-01-01     33.0       32.010             NaN   \n",
       "1    Consumer price index  1980-02-01     33.3       32.301           0.009   \n",
       "2    Consumer price index  1980-03-01     33.8       32.786           0.015   \n",
       "3    Consumer price index  1980-04-01     34.0       32.980           0.006   \n",
       "4    Consumer price index  1980-05-01     34.5       33.465           0.015   \n",
       "..                    ...         ...      ...          ...             ...   \n",
       "544  Consumer price index  2025-05-01    120.4      116.788           0.001   \n",
       "545  Consumer price index  2025-06-01    120.7      117.079           0.002   \n",
       "546  Consumer price index  2025-07-01    122.5      118.825           0.015   \n",
       "547  Consumer price index  2025-08-01    121.7      118.049          -0.007   \n",
       "548  Consumer price index  2025-09-01    121.6      117.952          -0.001   \n",
       "\n",
       "     Inflation_Rate_12M  \n",
       "0                   NaN  \n",
       "1                   NaN  \n",
       "2                   NaN  \n",
       "3                   NaN  \n",
       "4                   NaN  \n",
       "..                  ...  \n",
       "544               0.016  \n",
       "545               0.019  \n",
       "546               0.023  \n",
       "547               0.020  \n",
       "548               0.023  \n",
       "\n",
       "[549 rows x 6 columns]"
      ]
     },
     "metadata": {},
     "output_type": "display_data"
    }
   ],
   "source": [
    "# the 12-month inflation rate\n",
    "df['Inflation_Rate_12M'] = (df['INDHOLD'] / df['INDHOLD'].shift(12) - 1).round(3)\n",
    "display(df)"
   ]
  },
  {
   "cell_type": "code",
   "execution_count": 47,
   "metadata": {},
   "outputs": [
    {
     "data": {
      "image/png": "[encoded data removed]",
      "text/plain": [
       "<Figure size 1000x600 with 1 Axes>"
      ]
     },
     "metadata": {},
     "output_type": "display_data"
    }
   ],
   "source": [
    "from datetime import date\n",
    "import matplotlib.pyplot as plt\n",
    "\n",
    "# Filter \n",
    "high_inflation_df = df[(df['TID'] >= date(2015, 1, 1)) & (df['TID'] <= date(2024, 12, 31))]\n",
    "\n",
    "# Plot \n",
    "plt.figure(figsize=(10, 6))\n",
    "plt.plot(high_inflation_df['TID'], high_inflation_df['Inflation_Rate_12M'], marker='o', label='12M Inflation Rate')\n",
    "plt.title('12-Month Inflation Rate (2015-2023)')\n",
    "plt.xlabel('Date')\n",
    "plt.ylabel('12-Month Inflation Rate')\n",
    "plt.xticks(rotation=45)\n",
    "plt.legend()\n",
    "plt.grid()\n",
    "plt.tight_layout()\n",
    "plt.show()"
   ]
  },
  {
   "cell_type": "markdown",
   "metadata": {},
   "source": [
    "### 1-2 Instantaneous inflation"
   ]
  },
  {
   "cell_type": "code",
   "execution_count": 48,
   "metadata": {},
   "outputs": [
    {
     "data": {
      "image/png": "[encoded data removed]",
      "text/plain": [
       "<Figure size 1000x600 with 1 Axes>"
      ]
     },
     "metadata": {},
     "output_type": "display_data"
    }
   ],
   "source": [
    "# Step 1: Define and plot κ(k, α)\n",
    "k_values = np.arange(12)\n",
    "alpha_values = [0, 1, 2, 3]\n",
    "T = 12\n",
    "\n",
    "plt.figure(figsize=(10, 6))\n",
    "for alpha in alpha_values:\n",
    "    kappa = (T - k_values) ** alpha / np.sum((T - np.arange(T)) ** alpha)\n",
    "    plt.plot(k_values, kappa, label=f'α = {alpha}')\n",
    "plt.xlabel('k')\n",
    "plt.ylabel('κ(k, α)')\n",
    "plt.title('Weight Function κ(k, α)')\n",
    "plt.legend()\n",
    "plt.grid()\n",
    "plt.show()"
   ]
  },
  {
   "cell_type": "code",
   "execution_count": null,
   "metadata": {},
   "outputs": [],
   "source": []
  },
  {
   "cell_type": "markdown",
   "metadata": {},
   "source": [
    "## Question 2"
   ]
  },
  {
   "cell_type": "markdown",
   "metadata": {},
   "source": [
    "We process the data by ..."
   ]
  },
  {
   "cell_type": "code",
   "execution_count": 49,
   "metadata": {},
   "outputs": [],
   "source": [
    "data = dataproject.load_data()\n"
   ]
  },
  {
   "cell_type": "code",
   "execution_count": 50,
   "metadata": {},
   "outputs": [],
   "source": [
    "data = dataproject.process_data(data)"
   ]
  },
  {
   "cell_type": "code",
   "execution_count": 51,
   "metadata": {},
   "outputs": [
    {
     "data": {
      "image/png": "[encoded data removed]",
      "text/plain": [
       "<Figure size 700x400 with 1 Axes>"
      ]
     },
     "metadata": {},
     "output_type": "display_data"
    }
   ],
   "source": [
    "fig = plt.figure(figsize=(7,4))\n",
    "ax = fig.add_subplot(111)\n",
    "\n",
    "ax.plot(data['log_GDP'],label='log(GDP)')\n",
    "\n",
    "ax.set_title('Log GDP over time')\n",
    "ax.set_xlabel('Year')\n",
    "ax.set_ylabel('Log GDP')\n",
    "\n",
    "ax.legend();"
   ]
  },
  {
   "cell_type": "markdown",
   "metadata": {},
   "source": [
    "We find that that ..."
   ]
  }
 ],
 "metadata": {
  "kernelspec": {
   "display_name": "base",
   "language": "python",
   "name": "python3"
  },
  "language_info": {
   "codemirror_mode": {
    "name": "ipython",
    "version": 3
   },
   "file_extension": ".py",
   "mimetype": "text/x-python",
   "name": "python",
   "nbconvert_exporter": "python",
   "pygments_lexer": "ipython3",
   "version": "3.12.7"
  },
  "toc-autonumbering": true,
  "vscode": {
   "interpreter": {
    "hash": "47ef90cdf3004d3f859f1fb202523c65c07ba7c22eefd261b181f4744e2d0403"
   }
  }
 },
 "nbformat": 4,
 "nbformat_minor": 4
}
